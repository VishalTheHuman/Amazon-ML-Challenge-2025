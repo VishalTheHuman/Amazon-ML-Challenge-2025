{
 "cells": [
  {
   "cell_type": "code",
   "execution_count": 2,
   "id": "5ef4a0fa",
   "metadata": {},
   "outputs": [
    {
     "name": "stdout",
     "output_type": "stream",
     "text": [
      "✅ Saved averaged prices to: average_price_output.csv\n",
      "   sample_id  average_price\n",
      "0     100179      14.970845\n",
      "1     245611      12.319487\n",
      "2     146263      17.999494\n",
      "3      95658       4.620264\n",
      "4      36806      33.402316\n"
     ]
    }
   ],
   "source": [
    "import pandas as pd\n",
    "\n",
    "# --- Input file paths ---\n",
    "file1 = \"predictions_amritha.csv\"\n",
    "file2 = \"test_predictions_clip_big_epoch-10_full_v2_saran.csv\"\n",
    "\n",
    "# --- Load both Excel files ---\n",
    "df1 = pd.read_csv(file1)\n",
    "df2 = pd.read_csv(file2)\n",
    "\n",
    "# --- Check required columns ---\n",
    "for name, df in [(\"file1\", df1), (\"file2\", df2)]:\n",
    "    if not {\"sample_id\", \"price\"}.issubset(df.columns):\n",
    "        raise ValueError(f\"{name} must contain 'sample_id' and 'price' columns.\")\n",
    "\n",
    "# --- Merge on sample_id ---\n",
    "merged = pd.merge(df1, df2, on=\"sample_id\", suffixes=(\"_1\", \"_2\"))\n",
    "\n",
    "# --- Compute average price ---\n",
    "merged[\"average_price\"] = merged[[\"price_1\", \"price_2\"]].mean(axis=1)\n",
    "\n",
    "# --- Keep only sample_id and average_price ---\n",
    "out_df = merged[[\"sample_id\", \"average_price\"]]\n",
    "\n",
    "# --- Save result ---\n",
    "output_file = \"average_price_output.csv\"\n",
    "out_df.to_csv(output_file, index=False)\n",
    "\n",
    "print(f\"✅ Saved averaged prices to: {output_file}\")\n",
    "print(out_df.head())\n"
   ]
  },
  {
   "cell_type": "code",
   "execution_count": null,
   "id": "8de6a8ba",
   "metadata": {},
   "outputs": [],
   "source": []
  }
 ],
 "metadata": {
  "kernelspec": {
   "display_name": "base",
   "language": "python",
   "name": "python3"
  },
  "language_info": {
   "codemirror_mode": {
    "name": "ipython",
    "version": 3
   },
   "file_extension": ".py",
   "mimetype": "text/x-python",
   "name": "python",
   "nbconvert_exporter": "python",
   "pygments_lexer": "ipython3",
   "version": "3.9.13"
  }
 },
 "nbformat": 4,
 "nbformat_minor": 5
}
